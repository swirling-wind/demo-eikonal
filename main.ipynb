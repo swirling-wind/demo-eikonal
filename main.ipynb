{
 "cells": [
  {
   "cell_type": "code",
   "execution_count": 17,
   "metadata": {},
   "outputs": [],
   "source": [
    "import numpy as np\n",
    "from numba import jit, prange, cuda"
   ]
  },
  {
   "cell_type": "code",
   "execution_count": 13,
   "metadata": {},
   "outputs": [
    {
     "name": "stdout",
     "output_type": "stream",
     "text": [
      "(10000000,)\n",
      "3332192.213354888\n"
     ]
    }
   ],
   "source": [
    "\n",
    "@jit(nopython=True)  # 使用 nopython 模式以获得最佳性能\n",
    "def sum_of_squares(arr):\n",
    "    total = 0.0\n",
    "    for i in range(arr.size):\n",
    "        total += arr[i] ** 2\n",
    "    return total\n",
    "\n",
    "# 创建一个大的随机数组\n",
    "data = np.random.rand(10000000)\n",
    "print(data.shape)\n",
    "\n",
    "# 调用加速函数\n",
    "result = sum_of_squares(data)\n",
    "print(result)\n"
   ]
  },
  {
   "cell_type": "code",
   "execution_count": 14,
   "metadata": {},
   "outputs": [
    {
     "name": "stdout",
     "output_type": "stream",
     "text": [
      "3332192.2133550863\n"
     ]
    }
   ],
   "source": [
    "@jit(nopython=True, parallel=True)\n",
    "def sum_of_squares_parallel(arr):\n",
    "    total = 0.0\n",
    "    for i in prange(arr.size):  # 使用 prange 替代 range 来并行化循环\n",
    "        total += arr[i] ** 2\n",
    "    return totals\n",
    "\n",
    "# 调用并行化函数\n",
    "result = sum_of_squares_parallel(data)\n",
    "print(result) \n"
   ]
  }
 ],
 "metadata": {
  "kernelspec": {
   "display_name": "py312",
   "language": "python",
   "name": "python3"
  },
  "language_info": {
   "codemirror_mode": {
    "name": "ipython",
    "version": 3
   },
   "file_extension": ".py",
   "mimetype": "text/x-python",
   "name": "python",
   "nbconvert_exporter": "python",
   "pygments_lexer": "ipython3",
   "version": "3.12.3"
  }
 },
 "nbformat": 4,
 "nbformat_minor": 2
}
